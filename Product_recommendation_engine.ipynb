{
  "nbformat": 4,
  "nbformat_minor": 0,
  "metadata": {
    "colab": {
      "name": "Product recommendation engine.ipynb",
      "provenance": [],
      "collapsed_sections": []
    },
    "kernelspec": {
      "name": "python3",
      "display_name": "Python 3"
    },
    "language_info": {
      "name": "python"
    }
  },
  "cells": [
    {
      "cell_type": "markdown",
      "source": [
        "### Importing the Necessary libraries"
      ],
      "metadata": {
        "id": "9e0cxO6mPdee"
      }
    },
    {
      "cell_type": "code",
      "source": [
        "import numpy as np\n",
        "import pandas as pd\n",
        "import difflib\n",
        "from sklearn.feature_extraction.text import TfidfVectorizer\n",
        "from sklearn.metrics.pairwise import cosine_similarity"
      ],
      "metadata": {
        "id": "ytwXMix-Phf5"
      },
      "execution_count": null,
      "outputs": []
    },
    {
      "cell_type": "markdown",
      "source": [
        "### Data Collection and Pre-Processing"
      ],
      "metadata": {
        "id": "cB0V9bOtRPrD"
      }
    },
    {
      "cell_type": "code",
      "source": [
        "# Reading the excel file as DataFrame\n",
        "\n",
        "product_data = pd.read_excel(\"/content/Product recommendation.xlsx\")"
      ],
      "metadata": {
        "id": "fAsdGHk0Py56"
      },
      "execution_count": null,
      "outputs": []
    },
    {
      "cell_type": "code",
      "source": [
        "# printing the first 5 rows of the dataframe\n",
        "\n",
        "product_data.head()"
      ],
      "metadata": {
        "colab": {
          "base_uri": "https://localhost:8080/",
          "height": 305
        },
        "id": "qwG4mYlRSBoq",
        "outputId": "5dfe5200-a7be-4631-8d6b-b742e58a5149"
      },
      "execution_count": null,
      "outputs": [
        {
          "output_type": "execute_result",
          "data": {
            "text/plain": [
              "   USER_ID              EMAIL  CUS_Month_Income  AGE  RATING  \\\n",
              "0      889  cust889@gmail.com           7116.64   49     3.5   \n",
              "1      890  cust890@gmail.com        1500000.00   46     3.0   \n",
              "2      891  cust891@gmail.com        5000000.00   53     4.0   \n",
              "3      892  cust892@gmail.com            500.00   15     2.0   \n",
              "4      893  cust893@gmail.com        9000000.00   48     1.0   \n",
              "\n",
              "  CUS_Marital_Status                   Product  \n",
              "0            MARRIED  Internationa credit card  \n",
              "1             SINGLE                 Insurance  \n",
              "2             SINGLE          Family insurance  \n",
              "3             SINGLE                 Insurance  \n",
              "4             SINGLE                 Insurance  "
            ],
            "text/html": [
              "\n",
              "  <div id=\"df-072de704-fdbf-445b-9223-4771f1c35cfd\">\n",
              "    <div class=\"colab-df-container\">\n",
              "      <div>\n",
              "<style scoped>\n",
              "    .dataframe tbody tr th:only-of-type {\n",
              "        vertical-align: middle;\n",
              "    }\n",
              "\n",
              "    .dataframe tbody tr th {\n",
              "        vertical-align: top;\n",
              "    }\n",
              "\n",
              "    .dataframe thead th {\n",
              "        text-align: right;\n",
              "    }\n",
              "</style>\n",
              "<table border=\"1\" class=\"dataframe\">\n",
              "  <thead>\n",
              "    <tr style=\"text-align: right;\">\n",
              "      <th></th>\n",
              "      <th>USER_ID</th>\n",
              "      <th>EMAIL</th>\n",
              "      <th>CUS_Month_Income</th>\n",
              "      <th>AGE</th>\n",
              "      <th>RATING</th>\n",
              "      <th>CUS_Marital_Status</th>\n",
              "      <th>Product</th>\n",
              "    </tr>\n",
              "  </thead>\n",
              "  <tbody>\n",
              "    <tr>\n",
              "      <th>0</th>\n",
              "      <td>889</td>\n",
              "      <td>cust889@gmail.com</td>\n",
              "      <td>7116.64</td>\n",
              "      <td>49</td>\n",
              "      <td>3.5</td>\n",
              "      <td>MARRIED</td>\n",
              "      <td>Internationa credit card</td>\n",
              "    </tr>\n",
              "    <tr>\n",
              "      <th>1</th>\n",
              "      <td>890</td>\n",
              "      <td>cust890@gmail.com</td>\n",
              "      <td>1500000.00</td>\n",
              "      <td>46</td>\n",
              "      <td>3.0</td>\n",
              "      <td>SINGLE</td>\n",
              "      <td>Insurance</td>\n",
              "    </tr>\n",
              "    <tr>\n",
              "      <th>2</th>\n",
              "      <td>891</td>\n",
              "      <td>cust891@gmail.com</td>\n",
              "      <td>5000000.00</td>\n",
              "      <td>53</td>\n",
              "      <td>4.0</td>\n",
              "      <td>SINGLE</td>\n",
              "      <td>Family insurance</td>\n",
              "    </tr>\n",
              "    <tr>\n",
              "      <th>3</th>\n",
              "      <td>892</td>\n",
              "      <td>cust892@gmail.com</td>\n",
              "      <td>500.00</td>\n",
              "      <td>15</td>\n",
              "      <td>2.0</td>\n",
              "      <td>SINGLE</td>\n",
              "      <td>Insurance</td>\n",
              "    </tr>\n",
              "    <tr>\n",
              "      <th>4</th>\n",
              "      <td>893</td>\n",
              "      <td>cust893@gmail.com</td>\n",
              "      <td>9000000.00</td>\n",
              "      <td>48</td>\n",
              "      <td>1.0</td>\n",
              "      <td>SINGLE</td>\n",
              "      <td>Insurance</td>\n",
              "    </tr>\n",
              "  </tbody>\n",
              "</table>\n",
              "</div>\n",
              "      <button class=\"colab-df-convert\" onclick=\"convertToInteractive('df-072de704-fdbf-445b-9223-4771f1c35cfd')\"\n",
              "              title=\"Convert this dataframe to an interactive table.\"\n",
              "              style=\"display:none;\">\n",
              "        \n",
              "  <svg xmlns=\"http://www.w3.org/2000/svg\" height=\"24px\"viewBox=\"0 0 24 24\"\n",
              "       width=\"24px\">\n",
              "    <path d=\"M0 0h24v24H0V0z\" fill=\"none\"/>\n",
              "    <path d=\"M18.56 5.44l.94 2.06.94-2.06 2.06-.94-2.06-.94-.94-2.06-.94 2.06-2.06.94zm-11 1L8.5 8.5l.94-2.06 2.06-.94-2.06-.94L8.5 2.5l-.94 2.06-2.06.94zm10 10l.94 2.06.94-2.06 2.06-.94-2.06-.94-.94-2.06-.94 2.06-2.06.94z\"/><path d=\"M17.41 7.96l-1.37-1.37c-.4-.4-.92-.59-1.43-.59-.52 0-1.04.2-1.43.59L10.3 9.45l-7.72 7.72c-.78.78-.78 2.05 0 2.83L4 21.41c.39.39.9.59 1.41.59.51 0 1.02-.2 1.41-.59l7.78-7.78 2.81-2.81c.8-.78.8-2.07 0-2.86zM5.41 20L4 18.59l7.72-7.72 1.47 1.35L5.41 20z\"/>\n",
              "  </svg>\n",
              "      </button>\n",
              "      \n",
              "  <style>\n",
              "    .colab-df-container {\n",
              "      display:flex;\n",
              "      flex-wrap:wrap;\n",
              "      gap: 12px;\n",
              "    }\n",
              "\n",
              "    .colab-df-convert {\n",
              "      background-color: #E8F0FE;\n",
              "      border: none;\n",
              "      border-radius: 50%;\n",
              "      cursor: pointer;\n",
              "      display: none;\n",
              "      fill: #1967D2;\n",
              "      height: 32px;\n",
              "      padding: 0 0 0 0;\n",
              "      width: 32px;\n",
              "    }\n",
              "\n",
              "    .colab-df-convert:hover {\n",
              "      background-color: #E2EBFA;\n",
              "      box-shadow: 0px 1px 2px rgba(60, 64, 67, 0.3), 0px 1px 3px 1px rgba(60, 64, 67, 0.15);\n",
              "      fill: #174EA6;\n",
              "    }\n",
              "\n",
              "    [theme=dark] .colab-df-convert {\n",
              "      background-color: #3B4455;\n",
              "      fill: #D2E3FC;\n",
              "    }\n",
              "\n",
              "    [theme=dark] .colab-df-convert:hover {\n",
              "      background-color: #434B5C;\n",
              "      box-shadow: 0px 1px 3px 1px rgba(0, 0, 0, 0.15);\n",
              "      filter: drop-shadow(0px 1px 2px rgba(0, 0, 0, 0.3));\n",
              "      fill: #FFFFFF;\n",
              "    }\n",
              "  </style>\n",
              "\n",
              "      <script>\n",
              "        const buttonEl =\n",
              "          document.querySelector('#df-072de704-fdbf-445b-9223-4771f1c35cfd button.colab-df-convert');\n",
              "        buttonEl.style.display =\n",
              "          google.colab.kernel.accessAllowed ? 'block' : 'none';\n",
              "\n",
              "        async function convertToInteractive(key) {\n",
              "          const element = document.querySelector('#df-072de704-fdbf-445b-9223-4771f1c35cfd');\n",
              "          const dataTable =\n",
              "            await google.colab.kernel.invokeFunction('convertToInteractive',\n",
              "                                                     [key], {});\n",
              "          if (!dataTable) return;\n",
              "\n",
              "          const docLinkHtml = 'Like what you see? Visit the ' +\n",
              "            '<a target=\"_blank\" href=https://colab.research.google.com/notebooks/data_table.ipynb>data table notebook</a>'\n",
              "            + ' to learn more about interactive tables.';\n",
              "          element.innerHTML = '';\n",
              "          dataTable['output_type'] = 'display_data';\n",
              "          await google.colab.output.renderOutput(dataTable, element);\n",
              "          const docLink = document.createElement('div');\n",
              "          docLink.innerHTML = docLinkHtml;\n",
              "          element.appendChild(docLink);\n",
              "        }\n",
              "      </script>\n",
              "    </div>\n",
              "  </div>\n",
              "  "
            ]
          },
          "metadata": {},
          "execution_count": 3
        }
      ]
    },
    {
      "cell_type": "code",
      "source": [
        "# Number of rows and columns in the DataFrame\n",
        "\n",
        "product_data.shape"
      ],
      "metadata": {
        "colab": {
          "base_uri": "https://localhost:8080/"
        },
        "id": "Tzn_L2bsSQmc",
        "outputId": "5264429a-bb37-4a73-c33c-681cddb8fd15"
      },
      "execution_count": null,
      "outputs": [
        {
          "output_type": "execute_result",
          "data": {
            "text/plain": [
              "(49, 7)"
            ]
          },
          "metadata": {},
          "execution_count": 4
        }
      ]
    },
    {
      "cell_type": "code",
      "source": [
        "# The unique columns of the DataFrame\n",
        "\n",
        "product_data.columns.unique()"
      ],
      "metadata": {
        "colab": {
          "base_uri": "https://localhost:8080/"
        },
        "id": "dmzNZSLKTxQZ",
        "outputId": "58f7f6dc-b966-48ca-8b99-ae2a782c6e8f"
      },
      "execution_count": null,
      "outputs": [
        {
          "output_type": "execute_result",
          "data": {
            "text/plain": [
              "Index(['USER_ID', 'EMAIL', 'CUS_Month_Income', 'AGE', 'RATING',\n",
              "       'CUS_Marital_Status', 'Product'],\n",
              "      dtype='object')"
            ]
          },
          "metadata": {},
          "execution_count": 5
        }
      ]
    },
    {
      "cell_type": "code",
      "source": [
        "product_data.info()"
      ],
      "metadata": {
        "colab": {
          "base_uri": "https://localhost:8080/"
        },
        "id": "sBQNuGxZlNCK",
        "outputId": "a3fc2422-faf8-47db-eaa9-e62a1b70c956"
      },
      "execution_count": null,
      "outputs": [
        {
          "output_type": "stream",
          "name": "stdout",
          "text": [
            "<class 'pandas.core.frame.DataFrame'>\n",
            "RangeIndex: 49 entries, 0 to 48\n",
            "Data columns (total 7 columns):\n",
            " #   Column              Non-Null Count  Dtype  \n",
            "---  ------              --------------  -----  \n",
            " 0   USER_ID             49 non-null     int64  \n",
            " 1   EMAIL               49 non-null     object \n",
            " 2   CUS_Month_Income    49 non-null     float64\n",
            " 3   AGE                 49 non-null     int64  \n",
            " 4   RATING              49 non-null     float64\n",
            " 5   CUS_Marital_Status  49 non-null     object \n",
            " 6   Product             49 non-null     object \n",
            "dtypes: float64(2), int64(2), object(3)\n",
            "memory usage: 2.8+ KB\n"
          ]
        }
      ]
    },
    {
      "cell_type": "code",
      "source": [
        "product_data.head()"
      ],
      "metadata": {
        "colab": {
          "base_uri": "https://localhost:8080/",
          "height": 305
        },
        "id": "TqFo18ii4yn0",
        "outputId": "53ec6323-dc1d-4ac6-f651-5ff358d16eec"
      },
      "execution_count": null,
      "outputs": [
        {
          "output_type": "execute_result",
          "data": {
            "text/plain": [
              "   USER_ID              EMAIL  CUS_Month_Income  AGE  RATING  \\\n",
              "0      889  cust889@gmail.com           7116.64   49     3.5   \n",
              "1      890  cust890@gmail.com        1500000.00   46     3.0   \n",
              "2      891  cust891@gmail.com        5000000.00   53     4.0   \n",
              "3      892  cust892@gmail.com            500.00   15     2.0   \n",
              "4      893  cust893@gmail.com        9000000.00   48     1.0   \n",
              "\n",
              "  CUS_Marital_Status                   Product  \n",
              "0            MARRIED  Internationa credit card  \n",
              "1             SINGLE                 Insurance  \n",
              "2             SINGLE          Family insurance  \n",
              "3             SINGLE                 Insurance  \n",
              "4             SINGLE                 Insurance  "
            ],
            "text/html": [
              "\n",
              "  <div id=\"df-0bef687f-caa8-4425-b552-dc166e86a8fe\">\n",
              "    <div class=\"colab-df-container\">\n",
              "      <div>\n",
              "<style scoped>\n",
              "    .dataframe tbody tr th:only-of-type {\n",
              "        vertical-align: middle;\n",
              "    }\n",
              "\n",
              "    .dataframe tbody tr th {\n",
              "        vertical-align: top;\n",
              "    }\n",
              "\n",
              "    .dataframe thead th {\n",
              "        text-align: right;\n",
              "    }\n",
              "</style>\n",
              "<table border=\"1\" class=\"dataframe\">\n",
              "  <thead>\n",
              "    <tr style=\"text-align: right;\">\n",
              "      <th></th>\n",
              "      <th>USER_ID</th>\n",
              "      <th>EMAIL</th>\n",
              "      <th>CUS_Month_Income</th>\n",
              "      <th>AGE</th>\n",
              "      <th>RATING</th>\n",
              "      <th>CUS_Marital_Status</th>\n",
              "      <th>Product</th>\n",
              "    </tr>\n",
              "  </thead>\n",
              "  <tbody>\n",
              "    <tr>\n",
              "      <th>0</th>\n",
              "      <td>889</td>\n",
              "      <td>cust889@gmail.com</td>\n",
              "      <td>7116.64</td>\n",
              "      <td>49</td>\n",
              "      <td>3.5</td>\n",
              "      <td>MARRIED</td>\n",
              "      <td>Internationa credit card</td>\n",
              "    </tr>\n",
              "    <tr>\n",
              "      <th>1</th>\n",
              "      <td>890</td>\n",
              "      <td>cust890@gmail.com</td>\n",
              "      <td>1500000.00</td>\n",
              "      <td>46</td>\n",
              "      <td>3.0</td>\n",
              "      <td>SINGLE</td>\n",
              "      <td>Insurance</td>\n",
              "    </tr>\n",
              "    <tr>\n",
              "      <th>2</th>\n",
              "      <td>891</td>\n",
              "      <td>cust891@gmail.com</td>\n",
              "      <td>5000000.00</td>\n",
              "      <td>53</td>\n",
              "      <td>4.0</td>\n",
              "      <td>SINGLE</td>\n",
              "      <td>Family insurance</td>\n",
              "    </tr>\n",
              "    <tr>\n",
              "      <th>3</th>\n",
              "      <td>892</td>\n",
              "      <td>cust892@gmail.com</td>\n",
              "      <td>500.00</td>\n",
              "      <td>15</td>\n",
              "      <td>2.0</td>\n",
              "      <td>SINGLE</td>\n",
              "      <td>Insurance</td>\n",
              "    </tr>\n",
              "    <tr>\n",
              "      <th>4</th>\n",
              "      <td>893</td>\n",
              "      <td>cust893@gmail.com</td>\n",
              "      <td>9000000.00</td>\n",
              "      <td>48</td>\n",
              "      <td>1.0</td>\n",
              "      <td>SINGLE</td>\n",
              "      <td>Insurance</td>\n",
              "    </tr>\n",
              "  </tbody>\n",
              "</table>\n",
              "</div>\n",
              "      <button class=\"colab-df-convert\" onclick=\"convertToInteractive('df-0bef687f-caa8-4425-b552-dc166e86a8fe')\"\n",
              "              title=\"Convert this dataframe to an interactive table.\"\n",
              "              style=\"display:none;\">\n",
              "        \n",
              "  <svg xmlns=\"http://www.w3.org/2000/svg\" height=\"24px\"viewBox=\"0 0 24 24\"\n",
              "       width=\"24px\">\n",
              "    <path d=\"M0 0h24v24H0V0z\" fill=\"none\"/>\n",
              "    <path d=\"M18.56 5.44l.94 2.06.94-2.06 2.06-.94-2.06-.94-.94-2.06-.94 2.06-2.06.94zm-11 1L8.5 8.5l.94-2.06 2.06-.94-2.06-.94L8.5 2.5l-.94 2.06-2.06.94zm10 10l.94 2.06.94-2.06 2.06-.94-2.06-.94-.94-2.06-.94 2.06-2.06.94z\"/><path d=\"M17.41 7.96l-1.37-1.37c-.4-.4-.92-.59-1.43-.59-.52 0-1.04.2-1.43.59L10.3 9.45l-7.72 7.72c-.78.78-.78 2.05 0 2.83L4 21.41c.39.39.9.59 1.41.59.51 0 1.02-.2 1.41-.59l7.78-7.78 2.81-2.81c.8-.78.8-2.07 0-2.86zM5.41 20L4 18.59l7.72-7.72 1.47 1.35L5.41 20z\"/>\n",
              "  </svg>\n",
              "      </button>\n",
              "      \n",
              "  <style>\n",
              "    .colab-df-container {\n",
              "      display:flex;\n",
              "      flex-wrap:wrap;\n",
              "      gap: 12px;\n",
              "    }\n",
              "\n",
              "    .colab-df-convert {\n",
              "      background-color: #E8F0FE;\n",
              "      border: none;\n",
              "      border-radius: 50%;\n",
              "      cursor: pointer;\n",
              "      display: none;\n",
              "      fill: #1967D2;\n",
              "      height: 32px;\n",
              "      padding: 0 0 0 0;\n",
              "      width: 32px;\n",
              "    }\n",
              "\n",
              "    .colab-df-convert:hover {\n",
              "      background-color: #E2EBFA;\n",
              "      box-shadow: 0px 1px 2px rgba(60, 64, 67, 0.3), 0px 1px 3px 1px rgba(60, 64, 67, 0.15);\n",
              "      fill: #174EA6;\n",
              "    }\n",
              "\n",
              "    [theme=dark] .colab-df-convert {\n",
              "      background-color: #3B4455;\n",
              "      fill: #D2E3FC;\n",
              "    }\n",
              "\n",
              "    [theme=dark] .colab-df-convert:hover {\n",
              "      background-color: #434B5C;\n",
              "      box-shadow: 0px 1px 3px 1px rgba(0, 0, 0, 0.15);\n",
              "      filter: drop-shadow(0px 1px 2px rgba(0, 0, 0, 0.3));\n",
              "      fill: #FFFFFF;\n",
              "    }\n",
              "  </style>\n",
              "\n",
              "      <script>\n",
              "        const buttonEl =\n",
              "          document.querySelector('#df-0bef687f-caa8-4425-b552-dc166e86a8fe button.colab-df-convert');\n",
              "        buttonEl.style.display =\n",
              "          google.colab.kernel.accessAllowed ? 'block' : 'none';\n",
              "\n",
              "        async function convertToInteractive(key) {\n",
              "          const element = document.querySelector('#df-0bef687f-caa8-4425-b552-dc166e86a8fe');\n",
              "          const dataTable =\n",
              "            await google.colab.kernel.invokeFunction('convertToInteractive',\n",
              "                                                     [key], {});\n",
              "          if (!dataTable) return;\n",
              "\n",
              "          const docLinkHtml = 'Like what you see? Visit the ' +\n",
              "            '<a target=\"_blank\" href=https://colab.research.google.com/notebooks/data_table.ipynb>data table notebook</a>'\n",
              "            + ' to learn more about interactive tables.';\n",
              "          element.innerHTML = '';\n",
              "          dataTable['output_type'] = 'display_data';\n",
              "          await google.colab.output.renderOutput(dataTable, element);\n",
              "          const docLink = document.createElement('div');\n",
              "          docLink.innerHTML = docLinkHtml;\n",
              "          element.appendChild(docLink);\n",
              "        }\n",
              "      </script>\n",
              "    </div>\n",
              "  </div>\n",
              "  "
            ]
          },
          "metadata": {},
          "execution_count": 7
        }
      ]
    },
    {
      "cell_type": "code",
      "source": [
        "product_data[\"CUS_Month_Income\"].value_counts()"
      ],
      "metadata": {
        "colab": {
          "base_uri": "https://localhost:8080/"
        },
        "id": "JeAesLcjh-10",
        "outputId": "57acd6cb-8d84-4abc-82db-bb6fdcac8759"
      },
      "execution_count": null,
      "outputs": [
        {
          "output_type": "execute_result",
          "data": {
            "text/plain": [
              "1000000.00     6\n",
              "2000000.00     5\n",
              "3000.00        5\n",
              "1500000.00     3\n",
              "0.00           2\n",
              "2500000.00     2\n",
              "500000.00      2\n",
              "15000000.00    2\n",
              "2500.00        2\n",
              "3500.00        2\n",
              "5000000.00     2\n",
              "12000.00       1\n",
              "5648.12        1\n",
              "30000000.00    1\n",
              "1014.00        1\n",
              "1557470.00     1\n",
              "7116.64        1\n",
              "250000.00      1\n",
              "6000000.00     1\n",
              "6131000.00     1\n",
              "2800000.00     1\n",
              "10000000.00    1\n",
              "200000.00      1\n",
              "2556.00        1\n",
              "9000000.00     1\n",
              "500.00         1\n",
              "180.00         1\n",
              "Name: CUS_Month_Income, dtype: int64"
            ]
          },
          "metadata": {},
          "execution_count": 8
        }
      ]
    },
    {
      "cell_type": "code",
      "source": [
        "product_data[\"AGE\"].value_counts()"
      ],
      "metadata": {
        "colab": {
          "base_uri": "https://localhost:8080/"
        },
        "id": "705SSZKUiOpt",
        "outputId": "1d862687-bea0-4b10-cc67-e5e54bf97f76"
      },
      "execution_count": null,
      "outputs": [
        {
          "output_type": "execute_result",
          "data": {
            "text/plain": [
              "46    5\n",
              "48    4\n",
              "49    3\n",
              "16    3\n",
              "43    2\n",
              "41    2\n",
              "69    2\n",
              "32    2\n",
              "51    2\n",
              "39    2\n",
              "37    2\n",
              "60    1\n",
              "62    1\n",
              "87    1\n",
              "82    1\n",
              "34    1\n",
              "54    1\n",
              "36    1\n",
              "77    1\n",
              "20    1\n",
              "18    1\n",
              "66    1\n",
              "75    1\n",
              "30    1\n",
              "35    1\n",
              "29    1\n",
              "64    1\n",
              "59    1\n",
              "15    1\n",
              "53    1\n",
              "52    1\n",
              "Name: AGE, dtype: int64"
            ]
          },
          "metadata": {},
          "execution_count": 9
        }
      ]
    },
    {
      "cell_type": "code",
      "source": [
        "product_data[\"RATING\"].value_counts()"
      ],
      "metadata": {
        "colab": {
          "base_uri": "https://localhost:8080/"
        },
        "id": "gfITYeh6ixbc",
        "outputId": "db3c97c7-62af-46f3-fe3b-5a4481daefca"
      },
      "execution_count": null,
      "outputs": [
        {
          "output_type": "execute_result",
          "data": {
            "text/plain": [
              "3.0    12\n",
              "4.0    11\n",
              "2.0     7\n",
              "5.0     6\n",
              "4.5     5\n",
              "3.5     3\n",
              "1.0     3\n",
              "1.5     2\n",
              "Name: RATING, dtype: int64"
            ]
          },
          "metadata": {},
          "execution_count": 10
        }
      ]
    },
    {
      "cell_type": "code",
      "source": [
        "product_data[\"CUS_Marital_Status\"].value_counts()"
      ],
      "metadata": {
        "colab": {
          "base_uri": "https://localhost:8080/"
        },
        "id": "L_VI6S6NixqT",
        "outputId": "09dd2370-22af-4bce-e767-122ec0269676"
      },
      "execution_count": null,
      "outputs": [
        {
          "output_type": "execute_result",
          "data": {
            "text/plain": [
              "SINGLE     36\n",
              "MARRIED    12\n",
              "WIDOWED     1\n",
              "Name: CUS_Marital_Status, dtype: int64"
            ]
          },
          "metadata": {},
          "execution_count": 11
        }
      ]
    },
    {
      "cell_type": "code",
      "source": [
        "product_data[\"Product\"].value_counts()"
      ],
      "metadata": {
        "colab": {
          "base_uri": "https://localhost:8080/"
        },
        "id": "j1qNQCY8jF2-",
        "outputId": "d7401f5f-fa8f-472a-e367-215d70db5854"
      },
      "execution_count": null,
      "outputs": [
        {
          "output_type": "execute_result",
          "data": {
            "text/plain": [
              "Family insurance             11\n",
              "Fixed deposit                11\n",
              "Insurance                    10\n",
              "Gold loan                     4\n",
              "Demat Account                 4\n",
              "Internationa credit card      3\n",
              "Long term deposit             2\n",
              "Savings account               1\n",
              "International credit card     1\n",
              "Privilege credit card         1\n",
              "Business Insurance            1\n",
              "Name: Product, dtype: int64"
            ]
          },
          "metadata": {},
          "execution_count": 12
        }
      ]
    },
    {
      "cell_type": "code",
      "source": [
        "# selecting the relevant features for recommendation\n",
        "\n",
        "selected_features = ['EMAIL','Product']\n",
        "print(selected_features)"
      ],
      "metadata": {
        "colab": {
          "base_uri": "https://localhost:8080/"
        },
        "id": "1qoHRA9Ma1b_",
        "outputId": "266989ae-2d12-4bce-fb6e-bdc811c678c7"
      },
      "execution_count": null,
      "outputs": [
        {
          "output_type": "stream",
          "name": "stdout",
          "text": [
            "['EMAIL', 'Product']\n"
          ]
        }
      ]
    },
    {
      "cell_type": "code",
      "source": [
        "# Combining all the 2 selected features\n",
        "\n",
        "combined_features = product_data[\"EMAIL\"] + \" \" + product_data[\"Product\"]"
      ],
      "metadata": {
        "id": "fYpTz7EnSuTx"
      },
      "execution_count": null,
      "outputs": []
    },
    {
      "cell_type": "code",
      "source": [
        "print(combined_features)"
      ],
      "metadata": {
        "colab": {
          "base_uri": "https://localhost:8080/"
        },
        "id": "pty31QDGbXqU",
        "outputId": "ae651053-b501-4601-8b8b-477b5053c015"
      },
      "execution_count": null,
      "outputs": [
        {
          "output_type": "stream",
          "name": "stdout",
          "text": [
            "0      cust889@gmail.com Internationa credit card\n",
            "1                     cust890@gmail.com Insurance\n",
            "2              cust891@gmail.com Family insurance\n",
            "3                     cust892@gmail.com Insurance\n",
            "4                     cust893@gmail.com Insurance\n",
            "5              cust894@gmail.com Family insurance\n",
            "6                 cust895@gmail.com Fixed deposit\n",
            "7             cust896@gmail.com Long term deposit\n",
            "8      cust897@gmail.com Internationa credit card\n",
            "9                     cust898@gmail.com Insurance\n",
            "10                    cust899@gmail.com Insurance\n",
            "11                cust900@gmail.com Fixed deposit\n",
            "12              cust901@gmail.com Savings account\n",
            "13                    cust902@gmail.com Insurance\n",
            "14                    cust903@gmail.com Insurance\n",
            "15             cust906@gmail.com Family insurance\n",
            "16             cust907@gmail.com Family insurance\n",
            "17             cust908@gmail.com Family insurance\n",
            "18     cust910@gmail.com Internationa credit card\n",
            "19            cust911@gmail.com Long term deposit\n",
            "20                cust913@gmail.com Fixed deposit\n",
            "21                cust914@gmail.com Fixed deposit\n",
            "22                    cust915@gmail.com Insurance\n",
            "23             cust916@gmail.com Family insurance\n",
            "24                    cust917@gmail.com Insurance\n",
            "25                cust918@gmail.com Fixed deposit\n",
            "26             cust919@gmail.com Family insurance\n",
            "27                    cust920@gmail.com Gold loan\n",
            "28             cust921@gmail.com Family insurance\n",
            "29                cust922@gmail.com Fixed deposit\n",
            "30    cust923@gmail.com International credit card\n",
            "31                cust924@gmail.com Fixed deposit\n",
            "32                    cust925@gmail.com Gold loan\n",
            "33                    cust926@gmail.com Gold loan\n",
            "34                    cust927@gmail.com Gold loan\n",
            "35                cust928@gmail.com Fixed deposit\n",
            "36                cust929@gmail.com Demat Account\n",
            "37                cust930@gmail.com Demat Account\n",
            "38                cust932@gmail.com Demat Account\n",
            "39                cust933@gmail.com Demat Account\n",
            "40             cust934@gmail.com Family insurance\n",
            "41                cust935@gmail.com Fixed deposit\n",
            "42                    cust936@gmail.com Insurance\n",
            "43             cust937@gmail.com Family insurance\n",
            "44             cust938@gmail.com Family insurance\n",
            "45                cust939@gmail.com Fixed deposit\n",
            "46        cust940@gmail.com Privilege credit card\n",
            "47                cust941@gmail.com Fixed deposit\n",
            "48           cust942@gmail.com Business Insurance\n",
            "dtype: object\n"
          ]
        }
      ]
    },
    {
      "cell_type": "code",
      "source": [
        "# Converting the text data to feature vectors\n",
        "\n",
        "vectorizer = TfidfVectorizer()"
      ],
      "metadata": {
        "id": "Tggyy9l1VJ42"
      },
      "execution_count": null,
      "outputs": []
    },
    {
      "cell_type": "code",
      "source": [
        "feature_vectors = vectorizer.fit_transform(combined_features)"
      ],
      "metadata": {
        "id": "d3r85gb3S-8o"
      },
      "execution_count": null,
      "outputs": []
    },
    {
      "cell_type": "code",
      "source": [
        "print(feature_vectors)"
      ],
      "metadata": {
        "id": "7s0OF_ASS_Bv",
        "colab": {
          "base_uri": "https://localhost:8080/"
        },
        "outputId": "3eb3d068-2968-4874-9c22-109a0338e19a"
      },
      "execution_count": null,
      "outputs": [
        {
          "output_type": "stream",
          "name": "stdout",
          "text": [
            "  (0, 2)\t0.43394890037490697\n",
            "  (0, 4)\t0.43394890037490697\n",
            "  (0, 61)\t0.49033873276009293\n",
            "  (0, 3)\t0.13907443885441073\n",
            "  (0, 58)\t0.13907443885441073\n",
            "  (0, 5)\t0.5867377879399842\n",
            "  (1, 60)\t0.37079503155471294\n",
            "  (1, 6)\t0.880558876306521\n",
            "  (1, 3)\t0.20871884190476972\n",
            "  (1, 58)\t0.20871884190476972\n",
            "  (2, 56)\t0.45190676148199954\n",
            "  (2, 7)\t0.7855159093137271\n",
            "  (2, 60)\t0.3307733352282096\n",
            "  (2, 3)\t0.18619081051959305\n",
            "  (2, 58)\t0.18619081051959305\n",
            "  (3, 8)\t0.880558876306521\n",
            "  (3, 60)\t0.37079503155471294\n",
            "  (3, 3)\t0.20871884190476972\n",
            "  (3, 58)\t0.20871884190476972\n",
            "  (4, 9)\t0.880558876306521\n",
            "  (4, 60)\t0.37079503155471294\n",
            "  (4, 3)\t0.20871884190476972\n",
            "  (4, 58)\t0.20871884190476972\n",
            "  (5, 10)\t0.7855159093137271\n",
            "  (5, 56)\t0.45190676148199954\n",
            "  :\t:\n",
            "  (44, 56)\t0.45190676148199954\n",
            "  (44, 60)\t0.3307733352282096\n",
            "  (44, 3)\t0.18619081051959305\n",
            "  (44, 58)\t0.18619081051959305\n",
            "  (45, 50)\t0.7594963013884217\n",
            "  (45, 55)\t0.4091869719859918\n",
            "  (45, 57)\t0.436937698967621\n",
            "  (45, 3)\t0.1800233836965677\n",
            "  (45, 58)\t0.1800233836965677\n",
            "  (46, 65)\t0.5584613579808528\n",
            "  (46, 51)\t0.5584613579808528\n",
            "  (46, 2)\t0.4130357668772767\n",
            "  (46, 4)\t0.4130357668772767\n",
            "  (46, 3)\t0.13237207757786978\n",
            "  (46, 58)\t0.13237207757786978\n",
            "  (47, 52)\t0.7594963013884217\n",
            "  (47, 55)\t0.4091869719859918\n",
            "  (47, 57)\t0.436937698967621\n",
            "  (47, 3)\t0.1800233836965677\n",
            "  (47, 58)\t0.1800233836965677\n",
            "  (48, 1)\t0.6608642461141236\n",
            "  (48, 53)\t0.6608642461141236\n",
            "  (48, 60)\t0.2782836963941617\n",
            "  (48, 3)\t0.15664463083237803\n",
            "  (48, 58)\t0.15664463083237803\n"
          ]
        }
      ]
    },
    {
      "cell_type": "markdown",
      "source": [
        "### Cosine Similarity"
      ],
      "metadata": {
        "id": "u3Ay7F1Ecmk3"
      }
    },
    {
      "cell_type": "code",
      "source": [
        "# getting the similarity scores using cosine similarity\n",
        "\n",
        "similarity = cosine_similarity(feature_vectors)"
      ],
      "metadata": {
        "id": "KRX4t4zjS_OV"
      },
      "execution_count": null,
      "outputs": []
    },
    {
      "cell_type": "code",
      "source": [
        "print(similarity)"
      ],
      "metadata": {
        "colab": {
          "base_uri": "https://localhost:8080/"
        },
        "id": "6BycrnAFcsCt",
        "outputId": "96d70227-b00c-41a5-d3ba-57424c533182"
      },
      "execution_count": null,
      "outputs": [
        {
          "output_type": "stream",
          "name": "stdout",
          "text": [
            "[[1.         0.05805491 0.05178876 ... 0.39529198 0.0500733  0.04357053]\n",
            " [0.05805491 1.         0.20037217 ... 0.05525709 0.07514854 0.16857558]\n",
            " [0.05178876 0.20037217 1.         ... 0.04929293 0.0670374  0.15038041]\n",
            " ...\n",
            " [0.39529198 0.05525709 0.04929293 ... 1.         0.04766014 0.04147075]\n",
            " [0.0500733  0.07514854 0.0670374  ... 0.04766014 1.         0.05639939]\n",
            " [0.04357053 0.16857558 0.15038041 ... 0.04147075 0.05639939 1.        ]]\n"
          ]
        }
      ]
    },
    {
      "cell_type": "markdown",
      "source": [
        "### Getting the email from the user"
      ],
      "metadata": {
        "id": "FIOdpPXycxUk"
      }
    },
    {
      "cell_type": "code",
      "source": [
        "# getting the email from the user\n",
        "\n",
        "email = input(' Enter your Email : ')"
      ],
      "metadata": {
        "colab": {
          "base_uri": "https://localhost:8080/"
        },
        "id": "0vDjLVDVcvhB",
        "outputId": "4b9090ee-5389-4b3f-f170-50e4aa9bab27"
      },
      "execution_count": null,
      "outputs": [
        {
          "name": "stdout",
          "output_type": "stream",
          "text": [
            " Enter your Email : cust899@gmail.com\n"
          ]
        }
      ]
    },
    {
      "cell_type": "code",
      "source": [
        "# creating a list with all the emails given in the dataset\n",
        "\n",
        "list_of_all_email = product_data['EMAIL'].tolist()\n",
        "print(list_of_all_email)"
      ],
      "metadata": {
        "colab": {
          "base_uri": "https://localhost:8080/"
        },
        "id": "Oa0nQWc0dGXU",
        "outputId": "4b70f33e-80fd-443f-bc53-02c4bb109c74"
      },
      "execution_count": null,
      "outputs": [
        {
          "output_type": "stream",
          "name": "stdout",
          "text": [
            "['cust889@gmail.com', 'cust890@gmail.com', 'cust891@gmail.com', 'cust892@gmail.com', 'cust893@gmail.com', 'cust894@gmail.com', 'cust895@gmail.com', 'cust896@gmail.com', 'cust897@gmail.com', 'cust898@gmail.com', 'cust899@gmail.com', 'cust900@gmail.com', 'cust901@gmail.com', 'cust902@gmail.com', 'cust903@gmail.com', 'cust906@gmail.com', 'cust907@gmail.com', 'cust908@gmail.com', 'cust910@gmail.com', 'cust911@gmail.com', 'cust913@gmail.com', 'cust914@gmail.com', 'cust915@gmail.com', 'cust916@gmail.com', 'cust917@gmail.com', 'cust918@gmail.com', 'cust919@gmail.com', 'cust920@gmail.com', 'cust921@gmail.com', 'cust922@gmail.com', 'cust923@gmail.com', 'cust924@gmail.com', 'cust925@gmail.com', 'cust926@gmail.com', 'cust927@gmail.com', 'cust928@gmail.com', 'cust929@gmail.com', 'cust930@gmail.com', 'cust932@gmail.com', 'cust933@gmail.com', 'cust934@gmail.com', 'cust935@gmail.com', 'cust936@gmail.com', 'cust937@gmail.com', 'cust938@gmail.com', 'cust939@gmail.com', 'cust940@gmail.com', 'cust941@gmail.com', 'cust942@gmail.com']\n"
          ]
        }
      ]
    },
    {
      "cell_type": "code",
      "source": [
        "# finding the close match for the email given by the user\n",
        "\n",
        "find_close_match = difflib.get_close_matches(email, list_of_all_email)\n",
        "print(find_close_match)"
      ],
      "metadata": {
        "colab": {
          "base_uri": "https://localhost:8080/"
        },
        "id": "6bUh8MNDdZwE",
        "outputId": "ab52acbc-2701-4f46-b5a0-4718e94f007d"
      },
      "execution_count": null,
      "outputs": [
        {
          "output_type": "stream",
          "name": "stdout",
          "text": [
            "['cust899@gmail.com', 'cust939@gmail.com', 'cust929@gmail.com']\n"
          ]
        }
      ]
    },
    {
      "cell_type": "code",
      "source": [
        "close_match = find_close_match[0]\n",
        "print(close_match)"
      ],
      "metadata": {
        "colab": {
          "base_uri": "https://localhost:8080/"
        },
        "id": "HPs6W2K9dyuA",
        "outputId": "96ef26a9-6fa2-4325-a429-1402c92935b7"
      },
      "execution_count": null,
      "outputs": [
        {
          "output_type": "stream",
          "name": "stdout",
          "text": [
            "cust899@gmail.com\n"
          ]
        }
      ]
    },
    {
      "cell_type": "code",
      "source": [
        "# # finding the userid of the customer\n",
        "\n",
        "userid_of_the_cust = product_data[product_data.EMAIL == close_match]['USER_ID'].values\n",
        "print(userid_of_the_cust)"
      ],
      "metadata": {
        "colab": {
          "base_uri": "https://localhost:8080/"
        },
        "id": "8jsgQYajeXLY",
        "outputId": "29f46dd4-6e5c-496b-aec0-2cd3a8225763"
      },
      "execution_count": null,
      "outputs": [
        {
          "output_type": "stream",
          "name": "stdout",
          "text": [
            "[899]\n"
          ]
        }
      ]
    },
    {
      "cell_type": "code",
      "source": [
        "# finding the rating of the customer\n",
        "\n",
        "rating_of_the_cust = product_data[product_data.EMAIL == close_match]['RATING'].values\n",
        "print(rating_of_the_cust)"
      ],
      "metadata": {
        "colab": {
          "base_uri": "https://localhost:8080/"
        },
        "id": "qunfN5hKfKwd",
        "outputId": "e1d141f2-4fc6-4483-8291-1e65ab14b3f1"
      },
      "execution_count": null,
      "outputs": [
        {
          "output_type": "stream",
          "name": "stdout",
          "text": [
            "[2.]\n"
          ]
        }
      ]
    },
    {
      "cell_type": "code",
      "source": [
        "# finding the monthly income of the customer\n",
        "\n",
        "monthly_income_of_the_cust = product_data[product_data.EMAIL == close_match]['CUS_Month_Income'].values\n",
        "print(monthly_income_of_the_cust)"
      ],
      "metadata": {
        "colab": {
          "base_uri": "https://localhost:8080/"
        },
        "id": "GIFMpo4lfyPY",
        "outputId": "1cf612a4-3222-49c0-f804-b42388f54f8e"
      },
      "execution_count": null,
      "outputs": [
        {
          "output_type": "stream",
          "name": "stdout",
          "text": [
            "[2800000.]\n"
          ]
        }
      ]
    },
    {
      "cell_type": "code",
      "source": [
        "# finding the age of the customer\n",
        "\n",
        "Age_of_the_cust = product_data[product_data.EMAIL == close_match]['AGE'].values\n",
        "print(Age_of_the_cust)"
      ],
      "metadata": {
        "colab": {
          "base_uri": "https://localhost:8080/"
        },
        "id": "tFx07S9wgZ2v",
        "outputId": "14f69cc7-1e8d-4f0f-fdaa-3c9f21664611"
      },
      "execution_count": null,
      "outputs": [
        {
          "output_type": "stream",
          "name": "stdout",
          "text": [
            "[64]\n"
          ]
        }
      ]
    },
    {
      "cell_type": "code",
      "source": [
        "# finding the marital status of the customer\n",
        "\n",
        "marital_status_of_the_cust = product_data[product_data.EMAIL == close_match]['CUS_Marital_Status'].values\n",
        "print(marital_status_of_the_cust)"
      ],
      "metadata": {
        "colab": {
          "base_uri": "https://localhost:8080/"
        },
        "id": "-FGhj_8ohMqZ",
        "outputId": "76113a61-dae2-4f9f-f168-56af9d8258f3"
      },
      "execution_count": null,
      "outputs": [
        {
          "output_type": "stream",
          "name": "stdout",
          "text": [
            "['MARRIED']\n"
          ]
        }
      ]
    },
    {
      "cell_type": "code",
      "source": [
        "# finding the product for the customer\n",
        "\n",
        "product_of_the_cust = product_data[product_data.EMAIL == close_match]['Product'].values\n",
        "print(product_of_the_cust)"
      ],
      "metadata": {
        "colab": {
          "base_uri": "https://localhost:8080/"
        },
        "id": "EBBHWWAjhf42",
        "outputId": "2643a1eb-94e5-4751-cb71-a40ccf265cde"
      },
      "execution_count": null,
      "outputs": [
        {
          "output_type": "stream",
          "name": "stdout",
          "text": [
            "['Insurance']\n"
          ]
        }
      ]
    },
    {
      "cell_type": "code",
      "source": [
        "# print the product based on the customer id\n",
        "\n",
        "print('product suggested for you : ', product_of_the_cust)"
      ],
      "metadata": {
        "colab": {
          "base_uri": "https://localhost:8080/"
        },
        "id": "SvZ788JjhuGs",
        "outputId": "cb578ecc-7786-4d28-f272-e759f998ac20"
      },
      "execution_count": null,
      "outputs": [
        {
          "output_type": "stream",
          "name": "stdout",
          "text": [
            "product suggested for you :  ['Insurance']\n"
          ]
        }
      ]
    },
    {
      "cell_type": "markdown",
      "source": [
        "### Product Recommendation System"
      ],
      "metadata": {
        "id": "GhzW8UaQmm3u"
      }
    },
    {
      "cell_type": "code",
      "source": [
        "email = input(' Enter your Email : ')\n",
        "\n",
        "list_of_all_email = product_data['EMAIL'].tolist()\n",
        "\n",
        "find_close_match = difflib.get_close_matches(email, list_of_all_email)\n",
        "\n",
        "close_match = find_close_match[0]\n",
        "\n",
        "product_of_the_cust = product_data[product_data.EMAIL == close_match]['Product'].values\n",
        "\n",
        "print(\"Product suggestion for the customer - \",  product_of_the_cust)"
      ],
      "metadata": {
        "colab": {
          "base_uri": "https://localhost:8080/"
        },
        "id": "G6Kmb7z8kEqq",
        "outputId": "b621ffe9-9ca1-477f-8e3f-1c946858854a"
      },
      "execution_count": null,
      "outputs": [
        {
          "output_type": "stream",
          "name": "stdout",
          "text": [
            " Enter your Email : cust921@gmail.com\n",
            "Product suggestion for the customer -  ['Family insurance']\n"
          ]
        }
      ]
    },
    {
      "cell_type": "markdown",
      "source": [
        "### Pickle File"
      ],
      "metadata": {
        "id": "1UTicHuDauk2"
      }
    },
    {
      "cell_type": "code",
      "source": [
        "# Flattening the entire intelligence of Machine learning Model\n",
        "\n",
        "import pickle\n",
        "pickle.dump(product_of_the_cust, open(\"product_of_the_cust.pkl\", \"wb\"))"
      ],
      "metadata": {
        "id": "PODvyiiFndhu"
      },
      "execution_count": null,
      "outputs": []
    },
    {
      "cell_type": "code",
      "source": [
        ""
      ],
      "metadata": {
        "id": "rS43OacXbN59"
      },
      "execution_count": null,
      "outputs": []
    }
  ]
}
